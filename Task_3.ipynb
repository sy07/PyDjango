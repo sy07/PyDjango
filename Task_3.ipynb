{
  "nbformat": 4,
  "nbformat_minor": 0,
  "metadata": {
    "colab": {
      "name": "Task-3.ipynb",
      "provenance": [],
      "authorship_tag": "ABX9TyMAhd4CG/P4YuxAgHllF8fd",
      "include_colab_link": true
    },
    "kernelspec": {
      "name": "python3",
      "display_name": "Python 3"
    },
    "language_info": {
      "name": "python"
    }
  },
  "cells": [
    {
      "cell_type": "markdown",
      "metadata": {
        "id": "view-in-github",
        "colab_type": "text"
      },
      "source": [
        "<a href=\"https://colab.research.google.com/github/sy07/PyDjango/blob/main/Task_3.ipynb\" target=\"_parent\"><img src=\"https://colab.research.google.com/assets/colab-badge.svg\" alt=\"Open In Colab\"/></a>"
      ]
    },
    {
      "cell_type": "markdown",
      "metadata": {
        "id": "ijPMZ1BXU0bX"
      },
      "source": [
        "#Task-3 of Django Internship"
      ]
    },
    {
      "cell_type": "markdown",
      "metadata": {
        "id": "em0HAucaU6Sj"
      },
      "source": [
        "1. Calculate Average of 5 numbers."
      ]
    },
    {
      "cell_type": "code",
      "metadata": {
        "colab": {
          "base_uri": "https://localhost:8080/"
        },
        "id": "CFV3pZqiUx8n",
        "outputId": "2b7f61a5-93da-412d-970e-b2d184b0f618"
      },
      "source": [
        "a = int(input('Insert First Number: '))\n",
        "b = int(input('Insert Second Number: '))\n",
        "c = int(input('Insert Third Number: '))\n",
        "d = int(input('Insert Fourth Number: '))\n",
        "e = int(input('Insert Fifth Number: '))\n",
        "sum = a + b + c + d + e\n",
        "avg=sum/5\n",
        "print(\"Sum is \",sum)\n",
        "print(\"Average is \",avg)"
      ],
      "execution_count": 1,
      "outputs": [
        {
          "output_type": "stream",
          "text": [
            "Insert First Number: 12\n",
            "Insert Second Number: 43\n",
            "Insert Third Number: 15\n",
            "Insert Fourth Number: 76\n",
            "Insert Fifth Number: 89\n",
            "Sum is  235\n",
            "Average is  47.0\n"
          ],
          "name": "stdout"
        }
      ]
    },
    {
      "cell_type": "markdown",
      "metadata": {
        "id": "WQ10jYDJVfWV"
      },
      "source": [
        "2.Check whether number is even or odd"
      ]
    },
    {
      "cell_type": "code",
      "metadata": {
        "colab": {
          "base_uri": "https://localhost:8080/"
        },
        "id": "XMW1qdDMViYh",
        "outputId": "62ebb0ac-0359-49b1-a3e4-b515f4936dc4"
      },
      "source": [
        "num = int(input('Insert number: '))\n",
        "if num % 2 == 0:\n",
        "    print(\"number is even\")\n",
        "else:\n",
        "    print(\"number is odd\")"
      ],
      "execution_count": 4,
      "outputs": [
        {
          "output_type": "stream",
          "text": [
            "Insert number: 4\n",
            "number is even\n"
          ],
          "name": "stdout"
        }
      ]
    },
    {
      "cell_type": "markdown",
      "metadata": {
        "id": "bw76H0s8VveH"
      },
      "source": [
        "3. Take a year and check whether it is leap year or not."
      ]
    },
    {
      "cell_type": "code",
      "metadata": {
        "colab": {
          "base_uri": "https://localhost:8080/"
        },
        "id": "Cyt6EaCuVpuU",
        "outputId": "2384d7b9-08d5-43f4-bf5c-153de29e1688"
      },
      "source": [
        "qwe = int(input('Insert year: '))\n",
        "if (( qwe % 400 == 0)or (( qwe % 4 == 0 ) and ( qwe != 0))):\n",
        "    print(\"%d is a Leap Year\" % qwe)\n",
        "else:\n",
        "    print(\"%d is Not the Leap Year\" % qwe)"
      ],
      "execution_count": 5,
      "outputs": [
        {
          "output_type": "stream",
          "text": [
            "Insert year: 2023\n",
            "2023 is Not the Leap Year\n"
          ],
          "name": "stdout"
        }
      ]
    },
    {
      "cell_type": "markdown",
      "metadata": {
        "id": "WQ1F1x9NWCd1"
      },
      "source": [
        "4. Take a number and check whether it is zero, positive or negative."
      ]
    },
    {
      "cell_type": "code",
      "metadata": {
        "colab": {
          "base_uri": "https://localhost:8080/"
        },
        "id": "uqj6GOXJWAoc",
        "outputId": "4590bf43-1a68-46e8-ce4c-b24d146d2f55"
      },
      "source": [
        "num1 = int(input('Insert number: '))\n",
        "if num1 >= 0:\n",
        "    if num1 == 0:\n",
        "        print(\"number is zero\")\n",
        "    else:\n",
        "        print(\"number is positive\")\n",
        "else:\n",
        "    print(\"number is negative\")"
      ],
      "execution_count": 6,
      "outputs": [
        {
          "output_type": "stream",
          "text": [
            "Insert number: 12\n",
            "number is positive\n"
          ],
          "name": "stdout"
        }
      ]
    },
    {
      "cell_type": "markdown",
      "metadata": {
        "id": "Mp7iTNTcWPA7"
      },
      "source": [
        "5. Take 2 numbers and display greatest number. (Also check equal number condition)"
      ]
    },
    {
      "cell_type": "code",
      "metadata": {
        "colab": {
          "base_uri": "https://localhost:8080/"
        },
        "id": "KStTKlTAWNh2",
        "outputId": "e87a4210-1716-4458-f16a-74d33d4939a2"
      },
      "source": [
        "num1 = int(input('Insert First Number: '))\n",
        "num2 = int(input('Insert Second Number: '))\n",
        "if num1 > num2:\n",
        "    print(f\"{num1} is greater than {num2}\")\n",
        "elif num1 == num2:\n",
        "    print(f\"{num1} and {num2} are equal\")\n",
        "else:\n",
        "    print(f\"{num2} is greater than {num1}\")"
      ],
      "execution_count": 8,
      "outputs": [
        {
          "output_type": "stream",
          "text": [
            "Insert First Number: 45\n",
            "Insert Second Number: 98\n",
            "98 is greater than 45\n"
          ],
          "name": "stdout"
        }
      ]
    },
    {
      "cell_type": "markdown",
      "metadata": {
        "id": "uaVj-ShWXy0L"
      },
      "source": [
        "6. Take a number and find factorial of that number."
      ]
    },
    {
      "cell_type": "code",
      "metadata": {
        "colab": {
          "base_uri": "https://localhost:8080/"
        },
        "id": "6FLj3x6oXzcj",
        "outputId": "8a7473c6-af79-4d01-af1f-dcac5030d2d2"
      },
      "source": [
        "asd = int(input(\"Enter number:\"))\n",
        "fact=1\n",
        "while(asd > 0):\n",
        "    fact = fact * asd\n",
        "    asd = asd - 1\n",
        "print(\"Factorial of the number is: \",fact)"
      ],
      "execution_count": 9,
      "outputs": [
        {
          "output_type": "stream",
          "text": [
            "Enter number:7\n",
            "Factorial of the number is:  5040\n"
          ],
          "name": "stdout"
        }
      ]
    },
    {
      "cell_type": "markdown",
      "metadata": {
        "id": "bVMkB17dYDPC"
      },
      "source": [
        "7. Write a program to swap 2 numbers using third variable."
      ]
    },
    {
      "cell_type": "code",
      "metadata": {
        "colab": {
          "base_uri": "https://localhost:8080/"
        },
        "id": "n0kYjTxaYD_u",
        "outputId": "fa608733-1a4f-4a93-fce0-b269f4678161"
      },
      "source": [
        "num1 = int(input(\"please give first number a: \"))\n",
        "num2 = int(input(\"please give second number b: \"))\n",
        "temp = num1\n",
        "num1 = num2\n",
        "num2 = temp\n",
        "print(\"After swapping\")\n",
        "print(\"value of a is : \",num1)\n",
        "print(\"value of b is : \",num2)"
      ],
      "execution_count": 10,
      "outputs": [
        {
          "output_type": "stream",
          "text": [
            "please give first number a: 69\n",
            "please give second number b: 59\n",
            "After swapping\n",
            "value of a is :  59\n",
            "value of b is :  69\n"
          ],
          "name": "stdout"
        }
      ]
    },
    {
      "cell_type": "markdown",
      "metadata": {
        "id": "bPPeXbMSYdHy"
      },
      "source": [
        "8. Take 2 numbers and find smallest number."
      ]
    },
    {
      "cell_type": "code",
      "metadata": {
        "colab": {
          "base_uri": "https://localhost:8080/"
        },
        "id": "9mijJmzdYduh",
        "outputId": "e996e04e-8abf-46aa-8bdd-bd66ffc19e25"
      },
      "source": [
        "mark1 = int(input('Insert First Number: '))\n",
        "mark2 = int(input('Insert Second Number: '))\n",
        "\n",
        "if mark1 == mark2:\n",
        "    print('Both value is same')\n",
        "elif mark1 < mark2:\n",
        "    print(f'{mark1} is the smallest Number')\n",
        "else:\n",
        "    print(f'{mark2} is the smallest Number')"
      ],
      "execution_count": 11,
      "outputs": [
        {
          "output_type": "stream",
          "text": [
            "Insert First Number: 59\n",
            "Insert Second Number: 99\n",
            "59 is the smallest Number\n"
          ],
          "name": "stdout"
        }
      ]
    },
    {
      "cell_type": "markdown",
      "metadata": {
        "id": "mU9EXNyeY4cc"
      },
      "source": [
        "9. Take a number check if a number is less than 100 or not. If it is less than 100 then check if it is odd or even"
      ]
    },
    {
      "cell_type": "code",
      "metadata": {
        "colab": {
          "base_uri": "https://localhost:8080/"
        },
        "id": "d16v5WoPvFAx",
        "outputId": "0dd63022-8aa5-445b-b524-a4a09d264188"
      },
      "source": [
        "num3 = int(input('Insert a number: '))\n",
        "\n",
        "if num3 < 100:\n",
        "    print(f'{num3} is less than 100')\n",
        "else:\n",
        "    print(f'{num3} is greater than 100')\n",
        "    \n",
        "if num3 < 100:\n",
        "    if num3 % 2 == 0:\n",
        "        print(f\"{num3} is even number\")\n",
        "    else:\n",
        "        print(f\"{num3} is odd number\")"
      ],
      "execution_count": 13,
      "outputs": [
        {
          "output_type": "stream",
          "text": [
            "Insert a number: 101\n",
            "101 is greater than 100\n"
          ],
          "name": "stdout"
        }
      ]
    },
    {
      "cell_type": "markdown",
      "metadata": {
        "id": "PKEy6FRyvcO9"
      },
      "source": [
        "10. Take a number to print the square of a number if it is less than 10."
      ]
    },
    {
      "cell_type": "code",
      "metadata": {
        "colab": {
          "base_uri": "https://localhost:8080/"
        },
        "id": "upPCtQ0nvb8E",
        "outputId": "ac058e55-d595-442d-d841-daae3e25b223"
      },
      "source": [
        "num4 = int(input('Insert a number: '))\n",
        "square = num4 * num4\n",
        "if num4 < 10:\n",
        "    print(f'Square of {num4} is {square}')\n",
        "else:\n",
        "    print(f'{num4} is greater than 10')"
      ],
      "execution_count": 14,
      "outputs": [
        {
          "output_type": "stream",
          "text": [
            "Insert a number: 5\n",
            "Square of 5 is 25\n"
          ],
          "name": "stdout"
        }
      ]
    },
    {
      "cell_type": "markdown",
      "metadata": {
        "id": "peTokZE7vq36"
      },
      "source": [
        "11.Take a number and check whether it is zero, positive or negative using nested IF…ELSE statement ."
      ]
    },
    {
      "cell_type": "code",
      "metadata": {
        "colab": {
          "base_uri": "https://localhost:8080/"
        },
        "id": "PYJy0RIrvsnA",
        "outputId": "48a3534c-ff45-4154-f30c-1db2300fd40e"
      },
      "source": [
        "num5 = int(input('Insert a number: '))\n",
        "if num5 >= 0:\n",
        "    if num5 == 0:\n",
        "        print(\"number is zero\")\n",
        "    else:\n",
        "        print(\"number is positive\")\n",
        "else:\n",
        "    print(\"number is negative\")"
      ],
      "execution_count": 15,
      "outputs": [
        {
          "output_type": "stream",
          "text": [
            "Insert a number: -007\n",
            "number is negative\n"
          ],
          "name": "stdout"
        }
      ]
    },
    {
      "cell_type": "markdown",
      "metadata": {
        "id": "emYk3KXPv2c_"
      },
      "source": [
        "12. Take 3 numbers and find greatest number using nested IF….ELSE statement."
      ]
    },
    {
      "cell_type": "code",
      "metadata": {
        "colab": {
          "base_uri": "https://localhost:8080/"
        },
        "id": "tFeuHS_Iv4R7",
        "outputId": "73d4f79a-52da-42ee-907e-efabfc090d0f"
      },
      "source": [
        "abc1 = int(input('Insert First Number: '))\n",
        "abc2 = int(input('Insert Second Number: '))\n",
        "abc3 = int(input('Insert Third Number: '))\n",
        "\n",
        "if (abc1 > abc2 ) and (abc1 > abc3):\n",
        "   largest = abc1\n",
        "elif (abc2 > abc1) and (abc2 > abc3):\n",
        "   largest = abc2\n",
        "else:\n",
        "   largest = abc3\n",
        " \n",
        "print(\"The largest number is\",largest)"
      ],
      "execution_count": 16,
      "outputs": [
        {
          "output_type": "stream",
          "text": [
            "Insert First Number: 23\n",
            "Insert Second Number: 47\n",
            "Insert Third Number: 10\n",
            "The largest number is 47\n"
          ],
          "name": "stdout"
        }
      ]
    },
    {
      "cell_type": "markdown",
      "metadata": {
        "id": "glw6TH2hwT3c"
      },
      "source": [
        "13. Take 3 numbers and find smallest number using logical operator."
      ]
    },
    {
      "cell_type": "code",
      "metadata": {
        "colab": {
          "base_uri": "https://localhost:8080/"
        },
        "id": "3mRdPihuwVrS",
        "outputId": "6b19271b-978f-4923-ba0b-db835081204c"
      },
      "source": [
        "num_1 = int(input('Insert First Number: '))\n",
        "num_2 = int(input('Insert Second Number: '))\n",
        "num_3 = int(input('Insert Third Number: '))\n",
        "\n",
        "if(num_1 <= num_2 and num_1 <= num_3):\n",
        "  print(num_1,\" is the smallest\")\n",
        "elif(num_2 <= num_1 and num_2 <= num_3):\n",
        "  print(num_2,\" is the smallest\")\n",
        "else:\n",
        "    print(num_3,\" is the smallest\")"
      ],
      "execution_count": 17,
      "outputs": [
        {
          "output_type": "stream",
          "text": [
            "Insert First Number: 59\n",
            "Insert Second Number: 56\n",
            "Insert Third Number: 99\n",
            "56  is the smallest\n"
          ],
          "name": "stdout"
        }
      ]
    },
    {
      "cell_type": "markdown",
      "metadata": {
        "id": "glAh-TqKw1zW"
      },
      "source": [
        "14. Write a program to swap 2 numbers without taking third variable."
      ]
    },
    {
      "cell_type": "code",
      "metadata": {
        "colab": {
          "base_uri": "https://localhost:8080/"
        },
        "id": "lUOcyFb_w2bH",
        "outputId": "33f3fd34-e629-41da-a861-4bbd870523f6"
      },
      "source": [
        "zxc1 = int(input('Insert First Number: '))\n",
        "zxc2 = int(input('Insert Second Number: '))\n",
        "\n",
        "print (\"Before swapping: \")\n",
        "print(\"Value of x : \",zxc1, \" and y : \",zxc2)\n",
        "\n",
        "zxc1, zxc2 = zxc2, zxc1\n",
        "\n",
        "print (\"After swapping: \")\n",
        "print(\"Value of x : \", zxc1, \" and y : \", zxc2)\n"
      ],
      "execution_count": 19,
      "outputs": [
        {
          "output_type": "stream",
          "text": [
            "Insert First Number: 56\n",
            "Insert Second Number: 59\n",
            "Before swapping: \n",
            "Value of x :  56  and y :  59\n",
            "After swapping: \n",
            "Value of x :  59  and y :  56\n"
          ],
          "name": "stdout"
        }
      ]
    },
    {
      "cell_type": "markdown",
      "metadata": {
        "id": "MxxgU6hAxYSH"
      },
      "source": [
        "15. Take starting number and ending number from the user and print following series.\n",
        "Starting number: 30 & Ending Number: 0\n",
        "30,27,24,18,15,12,9,6,3,0"
      ]
    },
    {
      "cell_type": "code",
      "metadata": {
        "colab": {
          "base_uri": "https://localhost:8080/"
        },
        "id": "B7jWyGDnxZE6",
        "outputId": "a56d5218-2cde-45c6-cd39-822f4dbcfee2"
      },
      "source": [
        "zxc = int(input('Starting Number: '))\n",
        "bnm = int(input('Ending Number: '))\n",
        "\n",
        "for i in range(zxc,bnm - 1,-1):\n",
        "    if i%3==0:\n",
        "        print(i)"
      ],
      "execution_count": 21,
      "outputs": [
        {
          "output_type": "stream",
          "text": [
            "Starting Number: 30\n",
            "Ending Number: 0\n",
            "30\n",
            "27\n",
            "24\n",
            "21\n",
            "18\n",
            "15\n",
            "12\n",
            "9\n",
            "6\n",
            "3\n",
            "0\n"
          ],
          "name": "stdout"
        }
      ]
    }
  ]
}